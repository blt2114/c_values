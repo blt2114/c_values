{
 "cells": [
  {
   "cell_type": "markdown",
   "metadata": {},
   "source": [
    "# Code for generating Figure 1 and the c-value histograms"
   ]
  },
  {
   "cell_type": "code",
   "execution_count": 1,
   "metadata": {
    "collapsed": false
   },
   "outputs": [],
   "source": [
    "# Read in raw data and get \n",
    "alpha_grid <- seq(0.01, 0.99, by = 0.01)\n",
    "N <- 50\n",
    "p_theta <- c(0.00, 0.91, 1.82, 2.73, 3.64, 4.55, 5.46, 6.37, 7.27, 8.18, 9.09,\n",
    "             10.00, 10.91, 11.82, 12.73, 13.64, 14.55, 15.46, 16.37, 17.28)\n",
    "p_theta_scaled <- p_theta / sqrt(50)\n",
    "p_theta_char <- c(\"0.00\", \"0.91\",\"1.82\",\"2.73\", \"3.64\", \"4.55\", \"5.46\", \"6.37\", \"7.27\", \"8.18\", \"9.09\",\n",
    "                  \"10.00\", \"10.91\", \"11.82\", \"12.73\", \"13.64\", \"14.55\", \"15.46\", \"16.37\", \"17.28\")\n",
    "\n",
    "\n",
    "raw_data_list <- paste0(\"../../results/section3_simulation_study/tau=1.00_N=050_P_theta_norm=\",\n",
    "                        p_theta_char, \"_frequentist_analysis.tsv\")\n",
    "\n",
    "theta_hat_risk <- rep(NA, times = length(raw_data_list))\n",
    "names(theta_hat_risk) <- paste0(\"p_theta_norm_\", p_theta_char)\n",
    "theta_hat_se <- theta_hat_risk\n",
    "\n",
    "theta_star_risk <- theta_hat_risk\n",
    "theta_star_se <- theta_hat_risk\n",
    "\n",
    "# Prob. of picking theta_star as a function of alpha\n",
    "# rows index alpha values and column index theta_star_prob\n",
    "theta_star_prob <- matrix(nrow = length(alpha_grid), ncol = length(raw_data_list),\n",
    "                          dimnames = list(c(), paste0(\"p_theta_norm_\", p_theta_char)))\n",
    "theta_tilde_risk <- theta_star_prob\n",
    "theta_tilde_se <- theta_star_prob\n",
    "calibration_curves <- theta_star_prob\n",
    "\n",
    "\n",
    "# save wins, bounds, and c-values\n",
    "wins <- matrix(nrow = 2500, ncol = length(raw_data_list), dimnames = list(c(),\n",
    "    paste0(\"p_theta_norm_\", p_theta_char)))\n",
    "c_values <- wins\n",
    "\n",
    "for(ix in 1:length(raw_data_list)){\n",
    "  if(!file.exists(raw_data_list[ix])){\n",
    "    print(paste(\"Missing\", raw_data_list[ix]))\n",
    "  } else{\n",
    "    tmp_results <- read.delim(raw_data_list[ix])\n",
    "    \n",
    "    theta_hat_risk[ix] <- mean(tmp_results[,\"MLE_Err\"])\n",
    "    theta_hat_se[ix] <- sd(tmp_results[,\"MLE_Err\"])/sqrt(nrow(tmp_results))\n",
    "    # This is the standard deviation of the average loss from 2500 simulation reps\n",
    "    # That is, the variability of our estimate of risk if we repeatedly re-ran the 2500 simulation reps\n",
    "    \n",
    "    theta_star_risk[ix] <- mean(tmp_results[,\"Bayes_Err\"])\n",
    "    theta_star_se[ix] <- sd(tmp_results[,\"Bayes_Err\"])/sqrt(nrow(tmp_results))\n",
    "    \n",
    "    for(aix in 1:length(alpha_grid)){\n",
    "      # compute proportion of times we pick alternative (i.e. alpha < c_value) for each value of alpha\n",
    "      theta_star_prob[aix, ix] <- mean(tmp_results[,\"c_value\"] >= alpha_grid[aix])\n",
    "      \n",
    "      # get loss of theta_tilde\n",
    "      theta_tilde_loss <- tmp_results[,\"MLE_Err\"] * (tmp_results[,\"c_value\"] < alpha_grid[aix]) +\n",
    "        tmp_results[,\"Bayes_Err\"] * (tmp_results[,\"c_value\"] >= alpha_grid[aix])\n",
    "      theta_tilde_risk[aix,ix] <- mean(theta_tilde_loss)\n",
    "      theta_tilde_se[aix,ix] <- sd(theta_tilde_loss)/sqrt(nrow(tmp_results))\n",
    "      \n",
    "      # calibration: if alpha > by_break, then we know W > b(y,alpha)\n",
    "      calibration_curves[aix,ix] <- mean(alpha_grid[aix] > tmp_results[,\"by_break\"])\n",
    "    }\n",
    "    \n",
    "    wins[,ix] <- tmp_results[,\"Win\"]\n",
    "    c_values[,ix] <- tmp_results[,\"c_value\"]\n",
    "    \n",
    "  }\n",
    "}\n"
   ]
  },
  {
   "cell_type": "code",
   "execution_count": 2,
   "metadata": {
    "collapsed": false
   },
   "outputs": [],
   "source": [
    "# Find plot dimensions\n",
    "width = (8.5 - 2*1.)/3. # 8.5 inches - 2 * 1 inch margins  / 3 panels\n",
    "height = width # want each panel to be square\n",
    "\n",
    "res = 600 # DPI\n",
    "\n",
    "mar = c(2.0,2.0,1,0.5) # margins on (bottom, left, top, right)\n",
    "tck = -0.02 # tick size\n",
    "mgp = c(2.9,0.05, 0.0) # axis parameters. distances for (title, tick labels, axis line)\n",
    "title_scale <- 0.8\n",
    "label_scale <- 0.85\n",
    "legend_scale <- 0.7\n",
    "tick_label_size <- 0.7\n",
    "title_line <- 0.2 # space between title and top of axis"
   ]
  },
  {
   "cell_type": "code",
   "execution_count": 3,
   "metadata": {
    "collapsed": false,
    "scrolled": false
   },
   "outputs": [
    {
     "data": {
      "text/html": [
       "<strong>pdf:</strong> 2"
      ],
      "text/latex": [
       "\\textbf{pdf:} 2"
      ],
      "text/markdown": [
       "**pdf:** 2"
      ],
      "text/plain": [
       "pdf \n",
       "  2 "
      ]
     },
     "metadata": {},
     "output_type": "display_data"
    }
   ],
   "source": [
    "# Calibration\n",
    "\n",
    "panel_fn = \"../out/figure1_panel_A.png\"\n",
    "png(panel_fn, width = width, height = height, units = \"in\", res = res, type = \"cairo\")\n",
    "par(mar = mar, mgp = mgp, tck=tck)\n",
    "\n",
    "plot(1, type = \"n\", xlim = c(0, 1), ylim = c(0,1), xaxs=\"i\", yaxs=\"i\",\n",
    "     ylab = \"\", xlab=\"\", cex.axis=tick_label_size)\n",
    "title(main=\"Calibration\", line=title_line, cex.main=title_scale)\n",
    "title(xlab=expression(alpha), line=0.6, cex.lab=label_scale)\n",
    "title(ylab=\"Coverage\", line=0.8, cex.lab=label_scale)\n",
    "\n",
    "abline(a = 0, b = 1, lty = 2)\n",
    "lines(alpha_grid, calibration_curves[,5], col = rgb(1,0,0))\n",
    "lines(alpha_grid, calibration_curves[,10], col = rgb(0,0,1))\n",
    "lines(alpha_grid, calibration_curves[,15], col = rgb(0,1,0))\n",
    "\n",
    "legend(\"bottomright\", col = c(rgb(1,0,0), rgb(0,0,1), rgb(0,1,0), 'black'), \n",
    "       legend = expression(\"\\u2016\"*P[1]^symbol(\"\\136\")*theta*\"\\u2016\"/sqrt(N)~\"=0.36\",\n",
    "                          \"\\u2016\"*P[1]^symbol(\"\\136\")*theta*\"\\u2016\"/sqrt(N)~\"=0.82\",\n",
    "                           \"\\u2016\"*P[1]^symbol(\"\\136\")*theta*\"\\u2016\"/sqrt(N)~\"=1.27\",\n",
    "                           \"Nominal\"),\n",
    "       horiz = FALSE, lty = c(1, 1, 1, 3), cex = legend_scale)\n",
    "dev.off()"
   ]
  },
  {
   "cell_type": "markdown",
   "metadata": {},
   "source": [
    "<p float=\"left\">\n",
    "<img src=\"../out/figure1_panel_A.png\" width=\"250\" /> \n",
    "</p>"
   ]
  },
  {
   "cell_type": "code",
   "execution_count": 4,
   "metadata": {
    "collapsed": false
   },
   "outputs": [
    {
     "data": {
      "text/html": [
       "<strong>pdf:</strong> 2"
      ],
      "text/latex": [
       "\\textbf{pdf:} 2"
      ],
      "text/markdown": [
       "**pdf:** 2"
      ],
      "text/plain": [
       "pdf \n",
       "  2 "
      ]
     },
     "metadata": {},
     "output_type": "display_data"
    }
   ],
   "source": [
    "# Look at the probability of picking theta_star\n",
    "\n",
    "panel_fn = \"../out/figure1_panel_B.png\"\n",
    "png(panel_fn, width = width, height = height, units = \"in\", res = res, type = \"cairo\")\n",
    "par(mar = mar, mgp = mgp, tck=tck)\n",
    "\n",
    "plot(1, type = \"n\", xlim = c(0, 2.0), ylim = c(0,1), xaxs=\"i\", yaxs=\"i\",\n",
    "     xlab = \"\", ylab = \"\", cex.axis=tick_label_size)\n",
    "title(main=\"Selection probability\", line=title_line, cex.main=title_scale)\n",
    "title(xlab=expression(\"\\u2016\"*P[1]^symbol(\"\\136\")*theta*\"\\u2016\"/sqrt(N)), line=1.0, cex.lab=label_scale)\n",
    "title(ylab=expression(P(c(y) >= alpha)), line=0.5, cex.lab=label_scale)\n",
    "\n",
    "\n",
    "lines(p_theta/sqrt(N), theta_star_prob[95,], col = 'green', lwd = 2)\n",
    "lines(p_theta/sqrt(N), theta_star_prob[50,], col = 'orange', lwd = 2)\n",
    "lines(p_theta/sqrt(N), theta_star_prob[10,], col = 'blue', lwd = 2)\n",
    "legend(\"bottomleft\", legend = expression(alpha~\"=0.95\", alpha~\"=0.5\",alpha~\"=0.1\"),\n",
    "       col = c(\"green\", \"orange\", \"blue\"), lwd = c(2,2,2), horiz = FALSE, cex = legend_scale)\n",
    "dev.off()"
   ]
  },
  {
   "cell_type": "markdown",
   "metadata": {},
   "source": [
    "<p float=\"left\">\n",
    "<img src=\"../out/figure1_panel_B.png\" width=\"250\" /> \n",
    "</p>"
   ]
  },
  {
   "cell_type": "code",
   "execution_count": 5,
   "metadata": {
    "collapsed": false
   },
   "outputs": [
    {
     "data": {
      "text/html": [
       "<strong>pdf:</strong> 2"
      ],
      "text/latex": [
       "\\textbf{pdf:} 2"
      ],
      "text/markdown": [
       "**pdf:** 2"
      ],
      "text/plain": [
       "pdf \n",
       "  2 "
      ]
     },
     "metadata": {},
     "output_type": "display_data"
    }
   ],
   "source": [
    "# Look at the probability of picking theta_star\n",
    "\n",
    "panel_fn = \"../out/figure1_panel_C.png\"\n",
    "png(panel_fn, width = width, height = height, units = \"in\", res = 300, type = \"cairo\")\n",
    "par(mar = mar, mgp = mgp, tck=tck)\n",
    "\n",
    "\n",
    "plot(1, type = \"n\", xlim  = c(0,2.), ylim = c(0,1.3), xaxs=\"i\", yaxs=\"i\",\n",
    "     xlab =\"\" , ylab = \"\", cex.axis=tick_label_size)\n",
    "title(main=\"Risk\", line=title_line, cex.main=title_scale)\n",
    "title(xlab=expression(\"\\u2016\"*P[1]^symbol(\"\\136\")*theta*\"\\u2016\"/sqrt(N)), line=0.9, cex.lab=label_scale)\n",
    "title(ylab=\"Risk / N\", line=0.8, cex.lab=label_scale)\n",
    "lines(p_theta/sqrt(N), theta_hat_risk/50)\n",
    "lines(p_theta/sqrt(N), theta_star_risk/50, lty = 2)\n",
    "\n",
    "lines(p_theta/sqrt(N), theta_tilde_risk[95,]/50, col = 'green')\n",
    "lines(p_theta/10, theta_tilde_risk[50,]/50, col = 'orange')\n",
    "lines(p_theta/10, theta_tilde_risk[10,]/50, col = 'blue')\n",
    "legend(\"bottomright\", legend = expression(alpha~\"=0.95\", alpha~\"=0.5\",alpha~\"=0.1\",\"MLE\", \"Bayes.\"),\n",
    "       col = c(\"green\", \"orange\", \"blue\", \"black\", \"black\"), lwd = c(2,2,2),\n",
    "       lty=c(1,1,1,1,3), horiz = FALSE, cex = legend_scale)\n",
    "dev.off()"
   ]
  },
  {
   "cell_type": "markdown",
   "metadata": {},
   "source": [
    "<p float=\"left\">\n",
    "    <img src=\"../out/figure1_panel_C.png\" width=\"250\" /> \n",
    "</p>"
   ]
  },
  {
   "cell_type": "code",
   "execution_count": 6,
   "metadata": {
    "collapsed": false
   },
   "outputs": [
    {
     "data": {
      "text/html": [
       "<strong>pdf:</strong> 2"
      ],
      "text/latex": [
       "\\textbf{pdf:} 2"
      ],
      "text/markdown": [
       "**pdf:** 2"
      ],
      "text/plain": [
       "pdf \n",
       "  2 "
      ]
     },
     "metadata": {},
     "output_type": "display_data"
    }
   ],
   "source": [
    "# Look at histograms of c-values\n",
    "panel_fn = \"../out/figureS2.png\"\n",
    "png(panel_fn, width = width, height = height, units = \"in\", res = res, type = \"cairo\")\n",
    "par(mar = mar, mgp = mgp, tck=tck)\n",
    "\n",
    "hist(c_values[,5], breaks = seq(0,1,by = 0.025), freq = FALSE, col = rgb(1, 0, 0, 1/5),\n",
    "     xlab = \"\", main = \"\", ylim = c(0, 10), cex.axis=label_scale, xaxs=\"i\", yaxs=\"i\")\n",
    "hist(c_values[,10], breaks = seq(0, 1, by = 0.025), freq = FALSE, col = rgb(0,0,1,1/5), add = TRUE)\n",
    "hist(c_values[,15], breaks = seq(0, 1, by = 0.025), freq = FALSE, col = rgb(0,1,0,1/5), add = TRUE)\n",
    "\n",
    "title(main=\"Histogram of c-values\", line=title_line, cex.main=title_scale)\n",
    "title(xlab=\"c-value\", line=0.6, cex.lab=label_scale)\n",
    "title(ylab=\"Density\", line=0.8, cex.lab=label_scale)\n",
    "\n",
    "legend(\"top\", col = c(rgb(1,0,0,1/3), rgb(0,0,1,1/3), rgb(0,1,0,1/3)), \n",
    "       #legend = expression(hat(sigma)(theta)~\"=0.36\", hat(sigma)(theta)~\"=0.82\", hat(sigma)(theta)~\"=1.27\"),\n",
    "       legend = expression(\"\\u2016\"*P[1]^symbol(\"\\136\")*theta*\"\\u2016\"/sqrt(N)~\"=0.36\",\n",
    "                          \"\\u2016\"*P[1]^symbol(\"\\136\")*theta*\"\\u2016\"/sqrt(N)~\"=0.82\",\n",
    "                           \"\\u2016\"*P[1]^symbol(\"\\136\")*theta*\"\\u2016\"/sqrt(N)~\"=1.27\"),\n",
    "       horiz = FALSE, cex = legend_scale, lty=1)\n",
    "box()\n",
    "dev.off()\n"
   ]
  },
  {
   "cell_type": "markdown",
   "metadata": {},
   "source": [
    "<p float=\"left\">\n",
    "<img src=\"../out/figureS2.png\" width=\"250\" /> \n",
    "</p>"
   ]
  }
 ],
 "metadata": {
  "kernelspec": {
   "display_name": "R",
   "language": "R",
   "name": "ir"
  },
  "language_info": {
   "codemirror_mode": "r",
   "file_extension": ".r",
   "mimetype": "text/x-r-source",
   "name": "R",
   "pygments_lexer": "r",
   "version": "3.6.0"
  }
 },
 "nbformat": 4,
 "nbformat_minor": 2
}
