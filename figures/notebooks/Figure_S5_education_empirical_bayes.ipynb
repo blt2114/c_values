{
 "cells": [
  {
   "cell_type": "markdown",
   "metadata": {},
   "source": [
    "# Code for generating empirical Bayes calibration figure"
   ]
  },
  {
   "cell_type": "code",
   "execution_count": 1,
   "metadata": {
    "collapsed": false
   },
   "outputs": [],
   "source": [
    "# load in by_break vals for all three sets of simulations\n",
    "\n",
    "# load reticulate and use it to load numpy\n",
    "library(reticulate)\n",
    "np <- import(\"numpy\")\n",
    "# data reading\n",
    "base_dir <- \"../../results/education/\"\n",
    "fn2 <- paste(base_dir, \"by_break_values_min_students=02.npy\", sep=\"\")\n",
    "by_breaks_2 <- np$load(fn2)\n",
    "fn5 <- paste(base_dir, \"by_break_values_min_students=05.npy\", sep=\"\")\n",
    "by_breaks_5 <- np$load(fn5)\n",
    "fn10 <- paste(base_dir, \"by_break_values_min_students=10.npy\", sep=\"\")\n",
    "by_breaks_10 <- np$load(fn10)"
   ]
  },
  {
   "cell_type": "code",
   "execution_count": 2,
   "metadata": {
    "collapsed": false
   },
   "outputs": [],
   "source": [
    "alpha_grid <- seq(0.01, 0.99, by = 0.01)\n",
    "\n",
    "cal_curve_2 <- c()\n",
    "cal_curve_5 <- c()\n",
    "cal_curve_10 <- c()\n",
    "for(aix in 1:length(alpha_grid)){\n",
    "    cal_curve_2 <- c(cal_curve_2, mean(alpha_grid[aix]>by_breaks_2))\n",
    "    cal_curve_5 <- c(cal_curve_5, mean(alpha_grid[aix]>by_breaks_5))\n",
    "    cal_curve_10 <- c(cal_curve_10, mean(alpha_grid[aix]>by_breaks_10))\n",
    "}"
   ]
  },
  {
   "cell_type": "code",
   "execution_count": 3,
   "metadata": {
    "collapsed": false
   },
   "outputs": [],
   "source": [
    "# Find plot dimensions\n",
    "width = (8.5 - 2*1.)/3. # 8.5 inches - 2 * 1 inch margins  / 3 panels\n",
    "height = width # want each panel to be square\n",
    "\n",
    "res = 600 # DPI\n",
    "\n",
    "mar = c(1.5,1.5,1,0.5) # margins on (bottom, left, top, right)\n",
    "tck = -0.02 # tick size\n",
    "mgp = c(2.6,0.05, 0.0) # axis parameters. distances for (title, tick labels, axis line)\n",
    "title_scale <- 0.7\n",
    "label_scale <- 0.6\n",
    "legend_scale <- 0.6\n",
    "title_line <- 0.4 # space between title and top of axis"
   ]
  },
  {
   "cell_type": "code",
   "execution_count": 4,
   "metadata": {
    "collapsed": false,
    "scrolled": false
   },
   "outputs": [],
   "source": [
    "# Calibration\n",
    "panel_fn = \"../out/figureS5.png\"\n",
    "png(panel_fn, width = width, height = height, units = \"in\", res = res, type = \"cairo\")\n",
    "par(mar = mar, mgp = mgp, tck=tck)\n",
    "\n",
    "plot(1, type = \"n\", xlim = c(0, 1), ylim = c(0,1), xaxs=\"i\", yaxs=\"i\",\n",
    "     ylab = \"\", xlab=\"\", cex.axis=0.5)\n",
    "title(main=\"Educational Testing Calibration\", line=title_line, cex.main=title_scale)\n",
    "title(xlab=expression(alpha), line=0.6, cex.lab=label_scale)\n",
    "title(ylab=\"Coverage\", line=0.8, cex.lab=label_scale)\n",
    "\n",
    "abline(a = 0, b = 1, lty = 2)\n",
    "lines(alpha_grid, cal_curve_2, col = rgb(1,0,0))\n",
    "lines(alpha_grid, cal_curve_5, col = rgb(0,1,0))\n",
    "lines(alpha_grid, cal_curve_10, col = rgb(0,0,1))\n",
    "\n",
    "legend(\"bottomright\", col = c(rgb(1,0,0), rgb(0,1,0), rgb(0,0,1), 'black'), \n",
    "       legend = expression(\"min-students=2\",\n",
    "                 \"min-students=5\",\n",
    "                 \"min-students=10\",\n",
    "                 \"Nominal\"),\n",
    "       horiz = FALSE, lty = c(1, 1, 1, 3), cex = legend_scale)\n",
    "dev.off()"
   ]
  },
  {
   "cell_type": "markdown",
   "metadata": {},
   "source": [
    "<p float=\"left\">\n",
    "<img src=\"../out/figureS5.png\" width=\"250\" /> \n",
    "</p>"
   ]
  }
 ],
 "metadata": {
  "kernelspec": {
   "display_name": "R",
   "language": "R",
   "name": "ir"
  },
  "language_info": {
   "codemirror_mode": "r",
   "file_extension": ".r",
   "mimetype": "text/x-r-source",
   "name": "R",
   "pygments_lexer": "r",
   "version": "3.6.0"
  }
 },
 "nbformat": 4,
 "nbformat_minor": 2
}
