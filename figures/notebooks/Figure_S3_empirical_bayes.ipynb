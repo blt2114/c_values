{
 "cells": [
  {
   "cell_type": "markdown",
   "metadata": {},
   "source": [
    "# Code for generating empirical Bayes calibration figure"
   ]
  },
  {
   "cell_type": "code",
   "execution_count": 1,
   "metadata": {
    "collapsed": false
   },
   "outputs": [],
   "source": [
    "# load in by_break vals for both sets of simulations.\n",
    "base_fn <- \"../../results//empirical_bayes/\"\n",
    "fn_0 <- paste(base_fn, \"JS_EBayes_theta_norm=0.00_N=050_alpha=0.90.tsv\", sep = \"\")\n",
    "fn_1 <- paste(base_fn, \"JS_EBayes_theta_norm=200.00_N=050_alpha=0.90.tsv\", sep=\"\")\n",
    "\n",
    "\n",
    "# save scaled theta norms\n",
    "N = 50\n",
    "theta_norm_0 = 0.\n",
    "theta_norm_1 = sqrt(200.)/sqrt(N) # = 2.0"
   ]
  },
  {
   "cell_type": "code",
   "execution_count": 2,
   "metadata": {
    "collapsed": false
   },
   "outputs": [],
   "source": [
    "alpha_grid <- seq(0.01, 0.99, by = 0.01)\n",
    "df0 <- read.csv(fn_0, sep = \"\\t\")\n",
    "df1 <- read.csv(fn_1, sep = \"\\t\")\n",
    "by_breaks_0 <- df0$bya_breakpoint\n",
    "by_breaks_1 <- df1$bya_breakpoint\n",
    "cal_curve_0 <- c()\n",
    "cal_curve_1 <- c()\n",
    "for(aix in 1:length(alpha_grid)){\n",
    "    cal_curve_0 <- c(cal_curve_0, mean(alpha_grid[aix]>by_breaks_0))\n",
    "    cal_curve_1 <- c(cal_curve_1, mean(alpha_grid[aix]>by_breaks_1))\n",
    "}"
   ]
  },
  {
   "cell_type": "code",
   "execution_count": 3,
   "metadata": {
    "collapsed": false
   },
   "outputs": [],
   "source": [
    "# Find plot dimensions\n",
    "width = (8.5 - 2*1.)/3. # 8.5 inches - 2 * 1 inch margins  / 3 panels\n",
    "height = width # want each panel to be square\n",
    "\n",
    "res = 600 # DPI\n",
    "\n",
    "mar = c(1.5,1.5,1,0.5) # margins on (bottom, left, top, right)\n",
    "tck = -0.02 # tick size\n",
    "mgp = c(2.6,0.05, 0.0) # axis parameters. distances for (title, tick labels, axis line)\n",
    "title_scale <- 0.8\n",
    "label_scale <- 0.6\n",
    "legend_scale <- 0.6\n",
    "title_line <- 0.2 # space between title and top of axis"
   ]
  },
  {
   "cell_type": "code",
   "execution_count": 4,
   "metadata": {
    "collapsed": false,
    "scrolled": false
   },
   "outputs": [
    {
     "data": {
      "text/html": [
       "<strong>pdf:</strong> 2"
      ],
      "text/latex": [
       "\\textbf{pdf:} 2"
      ],
      "text/markdown": [
       "**pdf:** 2"
      ],
      "text/plain": [
       "pdf \n",
       "  2 "
      ]
     },
     "metadata": {},
     "output_type": "display_data"
    }
   ],
   "source": [
    "# Calibration\n",
    "panel_fn = \"../out/figureS3.png\"\n",
    "png(panel_fn, width = width, height = height, units = \"in\", res = res, type = \"cairo\")\n",
    "par(mar = mar, mgp = mgp, tck=tck)\n",
    "\n",
    "plot(1, type = \"n\", xlim = c(0, 1), ylim = c(0,1), xaxs=\"i\", yaxs=\"i\",\n",
    "     ylab = \"\", xlab=\"\", cex.axis=0.5)\n",
    "title(main=\"Empirical Bayes Calibration\", line=title_line, cex.main=title_scale)\n",
    "title(xlab=expression(alpha), line=0.6, cex.lab=label_scale)\n",
    "title(ylab=\"Coverage\", line=0.8, cex.lab=label_scale)\n",
    "\n",
    "abline(a = 0, b = 1, lty = 2)\n",
    "lines(alpha_grid, cal_curve_0, col = rgb(1,0,0))\n",
    "lines(alpha_grid, cal_curve_1, col = rgb(0,0,1))\n",
    "\n",
    "legend(\"bottomright\", col = c(rgb(1,0,0), rgb(0,0,1), 'black'), \n",
    "       legend = expression(\"\\u2016\"*theta*\"\\u2016\"/sqrt(N)~\"=0.0\",\n",
    "                          \"\\u2016\"*theta*\"\\u2016\"/sqrt(N)~\"=2.0\",\n",
    "                          \"Nominal\"),\n",
    "       horiz = FALSE, lty = c(1, 1, 3), cex = legend_scale)\n",
    "dev.off()"
   ]
  },
  {
   "cell_type": "markdown",
   "metadata": {},
   "source": [
    "![Figure S3](../out/figureS3.png)"
   ]
  }
 ],
 "metadata": {
  "kernelspec": {
   "display_name": "R",
   "language": "R",
   "name": "ir"
  },
  "language_info": {
   "codemirror_mode": "r",
   "file_extension": ".r",
   "mimetype": "text/x-r-source",
   "name": "R",
   "pygments_lexer": "r",
   "version": "3.6.0"
  }
 },
 "nbformat": 4,
 "nbformat_minor": 2
}
