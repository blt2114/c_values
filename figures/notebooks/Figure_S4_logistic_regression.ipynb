{
 "cells": [
  {
   "cell_type": "markdown",
   "metadata": {},
   "source": [
    "# Code for generating Figure S2 on Logistic Regression"
   ]
  },
  {
   "cell_type": "markdown",
   "metadata": {},
   "source": [
    "## Plot empirical rates of converge"
   ]
  },
  {
   "cell_type": "code",
   "execution_count": 1,
   "metadata": {
    "collapsed": false
   },
   "outputs": [],
   "source": [
    "base_fn <- \"../../results//logistic_regression/\"\n",
    "fn_approximation_errors <- paste(base_fn, \"/lr_approximation_errors.tsv\", sep=\"\")\n",
    "df_approx_errs <- read.csv(fn_approximation_errors, sep = \"\\t\")"
   ]
  },
  {
   "cell_type": "code",
   "execution_count": 2,
   "metadata": {
    "collapsed": false
   },
   "outputs": [],
   "source": [
    "# Find plot dimensions\n",
    "width = (8.5 - 2*1.)/3. # 8.5 inches - 2 * 1 inch margins  / 3 panels\n",
    "height = width # want each panel to be square\n",
    "\n",
    "res = 600 # DPI\n",
    "\n",
    "mar = c(2.0,2.0,1,0.5) # margins on (bottom, left, top, right)\n",
    "tck = -0.02 # tick size\n",
    "mgp = c(2.6,0.05, 0.0) # axis parameters. distances for (title, tick labels, axis line)\n",
    "title_scale <- 0.8\n",
    "label_scale <- 0.75\n",
    "legend_scale <- 0.67\n",
    "title_line <- 0.2 # space between title and top of axis"
   ]
  },
  {
   "cell_type": "code",
   "execution_count": 3,
   "metadata": {
    "collapsed": false
   },
   "outputs": [],
   "source": [
    "N <- df_approx_errs$N\n",
    "\n",
    "MLE_to_Truth <- df_approx_errs$MLE_to_Truth_means\n",
    "MLE_to_Truth_SEM <- df_approx_errs$MLE_to_Truth_sems\n",
    "\n",
    "post_Mean_to_MLE <- df_approx_errs$Posterior_Mean_to_MLE_means\n",
    "post_Mean_to_MLE_SEM <- df_approx_errs$Posterior_Mean_to_MLE_sems\n",
    "\n",
    "MAP_to_post_Mean <- df_approx_errs$MAP_to_Posterior_Mean_means\n",
    "MAP_to_post_Mean <- df_approx_errs$MAP_to_Posterior_Mean_sems\n",
    "\n",
    "approx_MAP_to_MAP <- df_approx_errs$Approximation_to_MAP_means\n",
    "approx_MAP_to_MAP <- df_approx_errs$Approximation_to_MAP_sems"
   ]
  },
  {
   "cell_type": "code",
   "execution_count": 4,
   "metadata": {
    "collapsed": false,
    "scrolled": false
   },
   "outputs": [
    {
     "data": {
      "text/html": [
       "<strong>pdf:</strong> 2"
      ],
      "text/latex": [
       "\\textbf{pdf:} 2"
      ],
      "text/markdown": [
       "**pdf:** 2"
      ],
      "text/plain": [
       "pdf \n",
       "  2 "
      ]
     },
     "metadata": {},
     "output_type": "display_data"
    }
   ],
   "source": [
    "# Approximation Errors\n",
    "panel_fn = \"../out//figureS4_panel_A.png\"\n",
    "png(panel_fn, width = width, height = height, units = \"in\", res = res, type = \"cairo\")\n",
    "par(mar = mar, mgp = mgp, tck=tck)\n",
    "\n",
    "plot(N, type = \"n\", log='xy', ylim=c(0.0000000000003, 800.),\n",
    "     xlim=c(1, 1000000),\n",
    "     ylab = \"\", xlab=\"\", cex.axis=0.5)\n",
    "title(main=\"Approximation Errors\", line=title_line, cex.main=title_scale)\n",
    "title(xlab=expression(\"Sample size (\"*M*\")\"), line=0.8, cex.lab=label_scale)\n",
    "title(ylab=\"Distance\", line=0.8, cex.lab=label_scale)\n",
    "\n",
    "lines(N, MLE_to_Truth, col = rgb(1,0,0))\n",
    "lines(N, post_Mean_to_MLE, col = rgb(0,1,0))\n",
    "lines(N, MAP_to_post_Mean, col = rgb(0,0,1))\n",
    "lines(N, approx_MAP_to_MAP, col = rgb(0.4,0.2,0.2))\n",
    "\n",
    "legend(\"bottomleft\", col = c(rgb(1,0,0), rgb(0,1,0), rgb(0,0, 1), rgb(0.4,0.2, 0.2)), \n",
    "       legend = expression(\"\\u2016\"*hat(theta)-theta*\"\\u2016\",\n",
    "                           \"\\u2016\"*E * \"[\" * theta* \"|X,Y]\" - hat(theta) *\"\\u2016\",\n",
    "                           \"\\u2016\"*theta^{\"*\"} - E * \"[\" * theta* \"|X,Y]\" *\"\\u2016\",\n",
    "                          \"\\u2016\"*tilde(theta)^{\"*\"} - theta^{\"*\"}*\"\\u2016\"),\n",
    "       horiz = FALSE, lty = 1, cex = legend_scale)\n",
    "\n",
    "dev.off()"
   ]
  },
  {
   "cell_type": "markdown",
   "metadata": {},
   "source": [
    "<p>\n",
    "    <img src=\"../out/figureS4_panel_A.png\" width=\"400\"/>\n",
    "</p>"
   ]
  },
  {
   "cell_type": "markdown",
   "metadata": {},
   "source": [
    "## Plot coverage and histogram of c-values"
   ]
  },
  {
   "cell_type": "code",
   "execution_count": 5,
   "metadata": {
    "collapsed": true
   },
   "outputs": [],
   "source": [
    "# load in by_break vals for both sets of simulations.\n",
    "fn_cvalues_and_b_breaks <- paste(base_fn, \"/logistic_regression_cvals_and_calibration.tsv\", sep=\"\")"
   ]
  },
  {
   "cell_type": "code",
   "execution_count": 6,
   "metadata": {
    "collapsed": true
   },
   "outputs": [],
   "source": [
    "alpha_grid <- seq(0.01, 0.99, by = 0.01)\n",
    "df_cvals_and_b_breaks <- read.csv(fn_cvalues_and_b_breaks, sep = \"\\t\")\n",
    "by_breaks <- df_cvals_and_b_breaks$by_break\n",
    "cal_curve <- c()\n",
    "for(aix in 1:length(alpha_grid)){\n",
    "    cal_curve <- c(cal_curve, mean(alpha_grid[aix]>by_breaks))\n",
    "}\n",
    "c_vals = df_cvals_and_b_breaks$c_value"
   ]
  },
  {
   "cell_type": "code",
   "execution_count": 7,
   "metadata": {
    "collapsed": false,
    "scrolled": false
   },
   "outputs": [
    {
     "data": {
      "text/html": [
       "<strong>pdf:</strong> 2"
      ],
      "text/latex": [
       "\\textbf{pdf:} 2"
      ],
      "text/markdown": [
       "**pdf:** 2"
      ],
      "text/plain": [
       "pdf \n",
       "  2 "
      ]
     },
     "metadata": {},
     "output_type": "display_data"
    }
   ],
   "source": [
    "# Calibration\n",
    "panel_fn = \"../out/figureS4_panel_C.png\"\n",
    "png(panel_fn, width = width, height = height, units = \"in\", res = res, type = \"cairo\")\n",
    "par(mar = mar, mgp = mgp, tck=tck)\n",
    "\n",
    "plot(1, type = \"n\", xlim = c(0, 1), ylim = c(0,1), xaxs=\"i\", yaxs=\"i\",\n",
    "     ylab = \"\", xlab=\"\", cex.axis=0.5)\n",
    "title(main=\"Calibration\", line=title_line, cex.main=title_scale)\n",
    "title(xlab=expression(alpha), line=0.6, cex.lab=label_scale)\n",
    "title(ylab=\"Coverage\", line=0.8, cex.lab=label_scale)\n",
    "\n",
    "abline(a = 0, b = 1, lty = 2)\n",
    "lines(alpha_grid, cal_curve, col = 'black')\n",
    "\n",
    "legend(\"bottomright\", col = 'black', \n",
    "       legend = expression(\"Observed\",\"Nominal\"),\n",
    "       horiz = FALSE, lty = c(1, 3), cex = legend_scale)\n",
    "dev.off()"
   ]
  },
  {
   "cell_type": "markdown",
   "metadata": {},
   "source": [
    "<p>\n",
    "    <img src=\"../out/figureS4_panel_C.png\" width=\"400\"/>\n",
    "</p>"
   ]
  },
  {
   "cell_type": "code",
   "execution_count": 8,
   "metadata": {
    "collapsed": false
   },
   "outputs": [
    {
     "data": {
      "text/html": [
       "<strong>pdf:</strong> 2"
      ],
      "text/latex": [
       "\\textbf{pdf:} 2"
      ],
      "text/markdown": [
       "**pdf:** 2"
      ],
      "text/plain": [
       "pdf \n",
       "  2 "
      ]
     },
     "metadata": {},
     "output_type": "display_data"
    }
   ],
   "source": [
    "# Look at histograms of c-values\n",
    "panel_fn = \"../out/figureS4_panel_B.png\"\n",
    "png(panel_fn, width = width, height = height, units = \"in\", res = res, type = \"cairo\")\n",
    "par(mar = mar, mgp = mgp, tck=tck)\n",
    "\n",
    "hist(c_vals, breaks = seq(0,1,by = 0.025), freq = FALSE, col = 'black',\n",
    "     xlab = \"\", main = \"\", ylim = c(0, 5.5), cex.axis=label_scale, xaxs=\"i\", yaxs=\"i\")\n",
    "\n",
    "title(main=\"Histogram of c-values\", line=title_line, cex.main=title_scale)\n",
    "title(xlab=\"c-value\", line=0.6, cex.lab=label_scale)\n",
    "title(ylab=\"Density\", line=0.8, cex.lab=label_scale)\n",
    "\n",
    "box()\n",
    "dev.off()"
   ]
  },
  {
   "cell_type": "markdown",
   "metadata": {},
   "source": [
    "<p>\n",
    "    <img src=\"../out/figureS4_panel_B.png\" width=\"400\"/>\n",
    "</p>"
   ]
  }
 ],
 "metadata": {
  "kernelspec": {
   "display_name": "R",
   "language": "R",
   "name": "ir"
  },
  "language_info": {
   "codemirror_mode": "r",
   "file_extension": ".r",
   "mimetype": "text/x-r-source",
   "name": "R",
   "pygments_lexer": "r",
   "version": "3.6.0"
  }
 },
 "nbformat": 4,
 "nbformat_minor": 2
}
