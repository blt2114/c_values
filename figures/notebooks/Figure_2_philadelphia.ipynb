{
 "cells": [
  {
   "cell_type": "code",
   "execution_count": 1,
   "metadata": {
    "collapsed": false
   },
   "outputs": [
    {
     "name": "stderr",
     "output_type": "stream",
     "text": [
      "\n",
      "Attaching package: ‘dplyr’\n",
      "\n",
      "The following objects are masked from ‘package:stats’:\n",
      "\n",
      "    filter, lag\n",
      "\n",
      "The following objects are masked from ‘package:base’:\n",
      "\n",
      "    intersect, setdiff, setequal, union\n",
      "\n",
      "Regions defined for each Polygons\n"
     ]
    }
   ],
   "source": [
    "library(sp)\n",
    "library(ggplot2)\n",
    "library(dplyr)\n",
    "\n",
    "load(\"../../data/philadelphia/phillygooglemap.rdata\")\n",
    "load(\"../../data/philadelphia/crime_density.RData\")\n",
    "load(\"../../data/philadelphia/tracts.RData\")\n",
    "\n",
    "tract_fort <- fortify(tracts)\n",
    "id <- as.character(unique(tract_fort$id))\n",
    "\n",
    "tmp_data <- data.frame(id = id, tract_name = rownames(viol_dens),\n",
    "                       viol = transform_viol[,154], nonviol = transform_nonviol[,154])\n",
    "PlotData <- inner_join(tract_fort, tmp_data, by = \"id\")\n",
    "\n",
    "\n",
    "viol_plot <- ggplot() + theme_bw() + \n",
    "  geom_polygon(data=PlotData, aes(x=long,y=lat,group=group, fill = viol),\n",
    "               color=alpha(\"black\",0.15), alpha =1, show.legend = TRUE) + \n",
    "  scale_fill_distiller(type = \"div\", palette = 5, \n",
    "                       limits = range(c(transform_viol, transform_nonviol)),\n",
    "                       name = \"\") + \n",
    "  theme(panel.border= element_blank(),\n",
    "        plot.title = element_text(hjust = 0.5, vjust = 0, size=24),\n",
    "        axis.ticks = element_blank(),axis.text = element_blank(),\n",
    "        panel.grid = element_blank(), axis.title = element_blank(),\n",
    "        legend.text = element_text(size=18),\n",
    "        legend.key.width = unit(2.5, \"cm\"),\n",
    "        legend.position = \"bottom\") +\n",
    "  ggtitle(\"Transformed violent crime density\")\n",
    "\n",
    "viol_plot <- viol_plot +theme(plot.title = element_text(size = 40), legend.position=\"right\",\n",
    "                              legend.key.height = unit(8.2, \"lines\"))\n",
    "viol_panel_fn =  \"../out/figure2_panel_A.png\"\n",
    "ggsave(filename =viol_panel_fn, \n",
    "       plot = viol_plot,\n",
    "       device = \"png\",\n",
    "       height = 2.5, width = 2.6,\n",
    "       units = \"cm\", scale = 10)"
   ]
  },
  {
   "cell_type": "markdown",
   "metadata": {},
   "source": [
    "<p float=\"left\">\n",
    "<img src=\"../out/figure2_panel_A.png\" width=\"250\" /> \n",
    "</p>"
   ]
  },
  {
   "cell_type": "code",
   "execution_count": 2,
   "metadata": {
    "collapsed": true
   },
   "outputs": [],
   "source": [
    "nonviol_plot <- ggplot() + theme_bw() + \n",
    "  geom_polygon(data=PlotData, aes(x=long,y=lat,group=group, fill = nonviol),\n",
    "               color=alpha(\"black\",0.15), alpha =1, show.legend = TRUE) + \n",
    "  scale_fill_distiller(type = \"div\", palette = 5, \n",
    "                       limits = range(c(transform_viol, transform_nonviol)),\n",
    "                       name = \"\") + \n",
    "  theme(panel.border= element_blank(),\n",
    "        plot.title = element_text(hjust = 0.5, vjust = 0, size=1),\n",
    "        axis.ticks = element_blank(),axis.text = element_blank(),\n",
    "        panel.grid = element_blank(), axis.title = element_blank(),\n",
    "        legend.text = element_text(size=18),\n",
    "        legend.key.width = unit(2.5, \"cm\"),\n",
    "        legend.position = \"bottom\") +\n",
    "  ggtitle(\"Transformed non-violent crime density\")\n",
    "nonviol_plot <- nonviol_plot +theme(plot.title = element_text(size = 34))\n",
    "\n",
    "non_viol_panel_fn =  \"../out/figure2_panel_B.png\"\n",
    "ggsave(filename = non_viol_panel_fn, \n",
    "       plot = nonviol_plot,\n",
    "       device = \"png\",\n",
    "       height = 2.5, width = 2.1,\n",
    "       units = \"cm\", scale = 10)"
   ]
  },
  {
   "cell_type": "markdown",
   "metadata": {},
   "source": [
    "<p float=\"left\">\n",
    "<img src=\"../out/figure2_panel_B.png\" width=\"250\" />\n",
    "</p>"
   ]
  }
 ],
 "metadata": {
  "kernelspec": {
   "display_name": "R",
   "language": "R",
   "name": "ir"
  },
  "language_info": {
   "codemirror_mode": "r",
   "file_extension": ".r",
   "mimetype": "text/x-r-source",
   "name": "R",
   "pygments_lexer": "r",
   "version": "3.6.0"
  }
 },
 "nbformat": 4,
 "nbformat_minor": 2
}
