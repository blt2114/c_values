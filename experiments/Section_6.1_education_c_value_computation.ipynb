{
 "cells": [
  {
   "cell_type": "markdown",
   "metadata": {},
   "source": [
    "# This notebook requires the output of  uses the output of Section_6.1_education_empirical_bayes_step.ipynb"
   ]
  },
  {
   "cell_type": "code",
   "execution_count": 1,
   "metadata": {
    "collapsed": false
   },
   "outputs": [],
   "source": [
    "import numpy as np\n",
    "import pandas as pd\n",
    "from scipy import optimize\n",
    "import sys\n",
    "sys.path.append(\"../src/\")\n",
    "import affine_operator_win_bounds as affine_ops"
   ]
  },
  {
   "cell_type": "code",
   "execution_count": 2,
   "metadata": {
    "collapsed": false
   },
   "outputs": [
    {
     "data": {
      "text/plain": [
       "0.9925817329571586"
      ]
     },
     "execution_count": 2,
     "metadata": {},
     "output_type": "execute_result"
    }
   ],
   "source": [
    "min_students = 5\n",
    "fn = \"../results/education/means_and_SEs_by_school_min_students=%02d.csv\"%min_students\n",
    "df = pd.read_csv(fn)\n",
    "y, sigma, mu, tau = df['mean'].values, df.sigma_n.values, df.prior_mean.values, df.prior_sd.values\n",
    "N = y.shape[0]\n",
    "Sigma = np.diag(sigma**2)\n",
    "A, k = np.eye(N), np.zeros(N)\n",
    "C = np.diag(tau**2/(tau**2 + sigma**2))\n",
    "l = (sigma**2/(tau**2 + sigma**2))*mu\n",
    "\n",
    "affine_ops.c_value(A=A, b=k, C=C, d=l,Sigma=Sigma, y=y)"
   ]
  },
  {
   "cell_type": "code",
   "execution_count": 3,
   "metadata": {
    "collapsed": false
   },
   "outputs": [
    {
     "data": {
      "text/plain": [
       "0.0"
      ]
     },
     "execution_count": 3,
     "metadata": {},
     "output_type": "execute_result"
    }
   ],
   "source": [
    "# Do the same thing but permuting the order of hte features.\n",
    "perm = np.random.permutation(y.shape[0])\n",
    "affine_ops.c_value(A=A, b=k, C=C, d=l, Sigma=Sigma[perm][:, perm], y=y[perm])"
   ]
  },
  {
   "cell_type": "code",
   "execution_count": 4,
   "metadata": {
    "collapsed": false
   },
   "outputs": [
    {
     "name": "stdout",
     "output_type": "stream",
     "text": [
      "min_students =  2 \tc_value= 0.8769577159362123\n",
      "min_students =  10 \tc_value= 0.9999928992392249\n"
     ]
    }
   ],
   "source": [
    "# compute c-values with different minimum numbers of students\n",
    "min_students_vals = [2, 10]\n",
    "for min_students in min_students_vals:\n",
    "    fn = \"../results/education/means_and_SEs_by_school_min_students=%02d.csv\"%min_students\n",
    "    df = pd.read_csv(fn)\n",
    "    y, sigma, mu, tau = df['mean'].values, df.sigma_n.values, df.prior_mean.values, df.prior_sd.values\n",
    "    N = y.shape[0]\n",
    "    Sigma = np.diag(sigma**2)\n",
    "    A, k = np.eye(N), np.zeros(N)\n",
    "    C = np.diag(tau**2/(tau**2 + sigma**2))\n",
    "    l = (sigma**2/(tau**2 + sigma**2))*mu\n",
    "\n",
    "    c_val = affine_ops.c_value(A=A, b=k, C=C, d=l, Sigma=Sigma, y=y)\n",
    "    print(\"min_students = \", min_students, \"\\tc_value=\", c_val)"
   ]
  },
  {
   "cell_type": "code",
   "execution_count": 5,
   "metadata": {
    "collapsed": true
   },
   "outputs": [],
   "source": [
    "def compute_bayes_est(df):\n",
    "    y, sigma, mu, tau = df['mean'].values, df.sigma_n.values, df.prior_mean.values, df.prior_sd.values\n",
    "    C = np.diag(tau**2/(tau**2 + sigma**2))\n",
    "    l = (sigma**2/(tau**2 + sigma**2))*mu\n",
    "    return C.dot(y) + l\n",
    "\n",
    "def where_bya_breaks(df):\n",
    "    y = df['mean']\n",
    "    theta = df['school_mean']\n",
    "    theta_hat = y\n",
    "    theta_star = compute_bayes_est(df)\n",
    "    win = np.linalg.norm(theta_hat-theta)**2 - np.linalg.norm(theta_star-theta)**2\n",
    "    \n",
    "    N = len(y)\n",
    "    sigma, mu, tau = df.sigma_n.values, df.prior_mean.values, df.prior_sd.values\n",
    "    Sigma = np.diag(sigma**2)\n",
    "    A, k = np.eye(N), np.zeros(N)\n",
    "    C = np.diag(tau**2/(tau**2 + sigma**2))\n",
    "    l = (sigma**2/(tau**2 + sigma**2))*mu\n",
    "    \n",
    "    bya = lambda alpha: affine_ops.b_bound(A=A, C=C, b=k, d=l, alpha=alpha, y=y, Sigma=Sigma)[0]\n",
    "    c_lower_bound =  1e-10\n",
    "    if win>bya(c_lower_bound): return c_lower_bound\n",
    "    if win<bya(1.-c_lower_bound): return 1.-c_lower_bound\n",
    "    \n",
    "    where_breaks = optimize.bisect(\n",
    "        f=lambda alpha: bya(alpha)-win,\n",
    "        a=c_lower_bound, b=1.-c_lower_bound, xtol=1e-3)\n",
    "    return where_breaks"
   ]
  },
  {
   "cell_type": "code",
   "execution_count": 6,
   "metadata": {
    "collapsed": true
   },
   "outputs": [],
   "source": [
    "# started at 12:57pm -- expected finish by 2am next day... \n",
    "from os import path \n",
    "for min_students in [2, 5, 10]:\n",
    "    by_breaks_fn = \"../results/education/by_break_values_min_students=%02d.npy\"%min_students\n",
    "    if not path.exists(by_breaks_fn):\n",
    "        print(\"fn=\",by_breaks_fn)\n",
    "        by_breaks = []\n",
    "        for rep in range(1, 5001):\n",
    "            fn = \"../results/education/simulation_min_students=%02d_%03d.csv\"%(min_students, rep)\n",
    "            df = pd.read_csv(fn)\n",
    "\n",
    "            by_break = where_bya_breaks(df)\n",
    "            by_breaks.append(by_break)\n",
    "            if rep%25 ==0: print(\"rep %03d/%03d\"%(rep, 250))\n",
    "\n",
    "        by_breaks = np.array(by_breaks)\n",
    "        np.save(by_breaks_fn, by_breaks)"
   ]
  }
 ],
 "metadata": {
  "kernelspec": {
   "display_name": "Python 3",
   "language": "python",
   "name": "python3"
  },
  "language_info": {
   "codemirror_mode": {
    "name": "ipython",
    "version": 3
   },
   "file_extension": ".py",
   "mimetype": "text/x-python",
   "name": "python",
   "nbconvert_exporter": "python",
   "pygments_lexer": "ipython3",
   "version": "3.6.10"
  }
 },
 "nbformat": 4,
 "nbformat_minor": 2
}
