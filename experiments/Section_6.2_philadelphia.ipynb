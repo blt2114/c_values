{
 "cells": [
  {
   "cell_type": "code",
   "execution_count": 1,
   "metadata": {
    "collapsed": false
   },
   "outputs": [],
   "source": [
    "import numpy as np\n",
    "np.set_printoptions(formatter={'float': lambda x: \"{0:0.3f}\".format(x)})\n",
    "import pandas as pd\n",
    "\n",
    "import sys\n",
    "sys.path.append(\"../src/\")\n",
    "import affine_operator_win_bounds as affine_ops"
   ]
  },
  {
   "cell_type": "markdown",
   "metadata": {},
   "source": [
    "# Load in crime level data"
   ]
  },
  {
   "cell_type": "code",
   "execution_count": 2,
   "metadata": {
    "collapsed": false
   },
   "outputs": [],
   "source": [
    "# Load processed data as pandas dataframes\n",
    "base_dir = \"../data/philadelphia/\"\n",
    "viol_density_fn = base_dir + \"viol_density.csv\"\n",
    "viol_data = pd.read_csv(viol_density_fn, index_col=0)\n",
    "non_viol_density_fn = base_dir + \"nonviol_density.csv\"\n",
    "non_viol_data = pd.read_csv(non_viol_density_fn,index_col=0)\n",
    "\n",
    "\n",
    "# Limit ot just June\n",
    "viol_data = viol_data[[y+\"_06\" for y in [str(y) for y in range(2006,2019)]]]\n",
    "non_viol_data = non_viol_data[[y+\"_06\" for y in [str(y) for y in range(2006,2019)]]]\n",
    "\n",
    "# convert to numpy\n",
    "viol_data = viol_data.to_numpy()\n",
    "non_viol_data = non_viol_data.to_numpy()\n",
    "\n",
    "# separate out historical from 2018\n",
    "viol_data_past = viol_data[:, :-1]\n",
    "non_viol_data_past = non_viol_data[:, :-1]\n",
    "viol_data = viol_data[:, -1]\n",
    "non_viol_data = non_viol_data[:, -1]\n",
    "\n",
    "# mean center based on historical data\n",
    "viol_data -= np.mean(viol_data_past)\n",
    "non_viol_data -= np.mean(non_viol_data_past)\n",
    "\n",
    "N_tracts = len(viol_data)\n"
   ]
  },
  {
   "cell_type": "markdown",
   "metadata": {},
   "source": [
    "## Assess heteroskedasticity from past data (under assumption of stationary crime levels across years)"
   ]
  },
  {
   "cell_type": "code",
   "execution_count": 3,
   "metadata": {
    "collapsed": false
   },
   "outputs": [
    {
     "name": "stdout",
     "output_type": "stream",
     "text": [
      "Noise Variances\n",
      "violent:\t0.246\n",
      "nonviolent:\t0.346\n",
      "Variances\n",
      "Violent:\tNoise:0.246\tSignal:1.018\n",
      "non-viol:\tNoise:0.346\tSignal:1.463\n"
     ]
    }
   ],
   "source": [
    "# For simplicity model as homoscedastic, same variance in every tract different variances for viol and non_viol\n",
    "viol_var = np.mean(np.var(viol_data_past, axis=1))\n",
    "non_viol_var = np.mean(np.var(non_viol_data_past, axis=1))\n",
    "print(\"Noise Variances\")\n",
    "print(\"violent:\\t%0.03f\"%viol_var)\n",
    "print(\"nonviolent:\\t%0.03f\"%non_viol_var)\n",
    "\n",
    "\n",
    "# Estimate signal variances\n",
    "viol_signal_var = np.var(np.mean(viol_data_past, axis=1))\n",
    "non_viol_signal_var = np.var(np.mean(non_viol_data_past, axis=1))\n",
    "\n",
    "print(\"Variances\")\n",
    "print(\"Violent:\\tNoise:%0.03f\\tSignal:%0.03f\"%(viol_var, viol_signal_var))\n",
    "print(\"non-viol:\\tNoise:%0.03f\\tSignal:%0.03f\"%(non_viol_var, non_viol_signal_var))"
   ]
  },
  {
   "cell_type": "markdown",
   "metadata": {},
   "source": [
    "# Smooth Estimates Spatially (separately for violent and non-violent crimes)"
   ]
  },
  {
   "cell_type": "markdown",
   "metadata": {},
   "source": [
    "## First load in locations of tracts and compute pairwise distances"
   ]
  },
  {
   "cell_type": "code",
   "execution_count": 4,
   "metadata": {
    "collapsed": true
   },
   "outputs": [],
   "source": [
    "tract_info_fn = base_dir + \"/tract_info.csv\"\n",
    "tract_info = pd.read_csv(tract_info_fn, index_col=0)\n",
    "lon, lat = tract_info['INTPTLON10'].to_numpy(), tract_info['INTPTLAT10'].to_numpy()"
   ]
  },
  {
   "cell_type": "code",
   "execution_count": 5,
   "metadata": {
    "collapsed": true
   },
   "outputs": [],
   "source": [
    "# compute pairwise distances using that (x-y)^2 = x^2 +y^2 - 2xy\n",
    "lat_dist_sqr = lat[:, None]**2 + lat[None]**2 - 2*lat[None]*lat[:,None]\n",
    "lon_dist_sqr = lon[:, None]**2 + lon[None]**2 - 2*lon[None]*lon[:,None]\n",
    "pairwise_dists = np.sqrt(lat_dist_sqr + lon_dist_sqr)"
   ]
  },
  {
   "cell_type": "markdown",
   "metadata": {},
   "source": [
    "# Estimate with Auxilliary data"
   ]
  },
  {
   "cell_type": "code",
   "execution_count": 6,
   "metadata": {
    "collapsed": false
   },
   "outputs": [
    {
     "name": "stdout",
     "output_type": "stream",
     "text": [
      "c_value(Affine)=0.999982\n"
     ]
    }
   ],
   "source": [
    "# Set up first model\n",
    "sigma_y_sqr, sigma_z_sqr = viol_var, non_viol_var\n",
    "prop_signal_var_explained_by_aux = 1/2.\n",
    "sigma_delta_sqr_1 = viol_signal_var*(1-prop_signal_var_explained_by_aux)\n",
    "\n",
    "y, z = viol_data, non_viol_data\n",
    "\n",
    "N = y.shape[0]\n",
    "A, k = np.eye(N), np.zeros(N)\n",
    "C_1 = (2*sigma_delta_sqr_1 + sigma_z_sqr)/(2*sigma_delta_sqr_1 + sigma_y_sqr + sigma_z_sqr)*np.eye(N)\n",
    "l_1 = (sigma_y_sqr/(2*sigma_delta_sqr_1 + sigma_y_sqr + sigma_z_sqr))*z\n",
    "Sigma = sigma_y_sqr*np.eye(N)\n",
    "\n",
    "theta_star_1 = C_1.dot(y) + l_1\n",
    "\n",
    "### compute c-value\n",
    "c_value = affine_ops.c_value(y=y, A=A, b=k, C=C_1, d=l_1, Sigma=Sigma)\n",
    "print(\"c_value(Affine)=%f\"%c_value)"
   ]
  },
  {
   "cell_type": "markdown",
   "metadata": {},
   "source": [
    "## Also use spatial smoothing"
   ]
  },
  {
   "cell_type": "code",
   "execution_count": 7,
   "metadata": {
    "collapsed": false
   },
   "outputs": [
    {
     "name": "stdout",
     "output_type": "stream",
     "text": [
      "c_value =0.843140\n"
     ]
    }
   ],
   "source": [
    "##### GP smoothing and evaluation for non-violent crimes\n",
    "y = viol_data\n",
    "\n",
    "### choose prior parameters and compute prior covariance\n",
    "prop_var_aux = 1./2\n",
    "prop_var_location = 1./3\n",
    "sigma_delta_sqr_2 = viol_signal_var*(1-prop_var_aux-prop_var_location)\n",
    "\n",
    "# by eye, it looks like a tenth of the diameter of the city is a reasonal length scale\n",
    "length_scale = np.max(pairwise_dists)/6. \n",
    "\n",
    "sigma_loc = viol_signal_var*prop_var_location\n",
    "K = sigma_loc*np.exp(-(1/2)*pairwise_dists**2/length_scale**2)\n",
    "\n",
    "C_2 = np.linalg.inv(np.eye(N) + sigma_y_sqr*np.linalg.inv(2*K + (2*sigma_delta_sqr_2 + sigma_z_sqr)*np.eye(N)))\n",
    "l_2 = np.linalg.inv(np.eye(N) + (sigma_y_sqr**-1)*(2*K + (2*sigma_delta_sqr_2 + sigma_z_sqr)*np.eye(N))).dot(z)\n",
    "\n",
    "theta_star_2 = C_2.dot(y) + l_2\n",
    "\n",
    "### compute c-value\n",
    "c_value = affine_ops.c_value(y=y, A=C_1, b=l_1, C=C_2, d=l_2, Sigma=Sigma)\n",
    "print(\"c_value =%f\"%c_value)"
   ]
  },
  {
   "cell_type": "markdown",
   "metadata": {},
   "source": [
    "## Now try directly computing a c-value for the third estimate compared to the MLE."
   ]
  },
  {
   "cell_type": "code",
   "execution_count": 8,
   "metadata": {
    "collapsed": false
   },
   "outputs": [
    {
     "name": "stderr",
     "output_type": "stream",
     "text": [
      "/Users/briantrippe/anaconda/lib/python3.6/site-packages/scipy/optimize/zeros.py:550: ComplexWarning: Casting complex values to real discards the imaginary part\n",
      "  r = _zeros._bisect(f, a, b, xtol, rtol, maxiter, args, full_output, disp)\n"
     ]
    },
    {
     "name": "stdout",
     "output_type": "stream",
     "text": [
      "c_value =0.999422\n",
      "other order for two bayes ests, c_value =0.000000\n"
     ]
    }
   ],
   "source": [
    "c_value = affine_ops.c_value(y=y, A=A, b=k, C=C_2, d=l_2, Sigma=Sigma)\n",
    "print(\"c_value =%f\"%c_value)\n",
    "\n",
    "### compute c-value\n",
    "c_value = affine_ops.c_value(y=y, A=C_2, b=l_2, C=C_1, d=l_1, Sigma=Sigma)\n",
    "print(\"other order for two bayes ests, c_value =%f\"%c_value)"
   ]
  }
 ],
 "metadata": {
  "kernelspec": {
   "display_name": "Python 3",
   "language": "python",
   "name": "python3"
  },
  "language_info": {
   "codemirror_mode": {
    "name": "ipython",
    "version": 3
   },
   "file_extension": ".py",
   "mimetype": "text/x-python",
   "name": "python",
   "nbconvert_exporter": "python",
   "pygments_lexer": "ipython3",
   "version": "3.6.10"
  }
 },
 "nbformat": 4,
 "nbformat_minor": 2
}
